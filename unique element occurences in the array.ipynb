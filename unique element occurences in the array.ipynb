{
 "cells": [
  {
   "cell_type": "code",
   "execution_count": 1,
   "metadata": {},
   "outputs": [
    {
     "name": "stdout",
     "output_type": "stream",
     "text": [
      "dict_values([2, 1, 3])\n",
      "True\n"
     ]
    }
   ],
   "source": [
    "from collections import Counter\n",
    "arr = [5,5,0,1,1,1]\n",
    "d = {}\n",
    "k = []\n",
    "d = Counter(arr)\n",
    "print(d.values())\n",
    "n = len(d.values())\n",
    "for i in range(0,n-1):\n",
    "    for j in range(1,n):\n",
    "        if i != j:\n",
    "            k.append(True)\n",
    "op = bool(set(k))\n",
    "print(op)\n",
    "            \n",
    "            \n",
    "  \n",
    "            \n",
    "    \n",
    "    \n",
    "        \n",
    "    \n",
    "\n",
    "    \n",
    "    \n"
   ]
  },
  {
   "cell_type": "code",
   "execution_count": 9,
   "metadata": {},
   "outputs": [
    {
     "name": "stdout",
     "output_type": "stream",
     "text": [
      "True\n"
     ]
    }
   ],
   "source": [
    "arr = [0,1,1,2,2,2,3,3,3,3]\n",
    "d = {}\n",
    "for i in arr:\n",
    "    if i not in d:\n",
    "        d[i] = 1\n",
    "    else:\n",
    "        d[i]+=1\n",
    "l = {}\n",
    "for x,y in d.items():\n",
    "    if y in l:\n",
    "        print(False)\n",
    "    else:\n",
    "        l[y]= 1\n",
    "print(True)"
   ]
  },
  {
   "cell_type": "code",
   "execution_count": null,
   "metadata": {},
   "outputs": [],
   "source": []
  },
  {
   "cell_type": "code",
   "execution_count": null,
   "metadata": {},
   "outputs": [],
   "source": []
  }
 ],
 "metadata": {
  "kernelspec": {
   "display_name": "Python 3",
   "language": "python",
   "name": "python3"
  },
  "language_info": {
   "codemirror_mode": {
    "name": "ipython",
    "version": 3
   },
   "file_extension": ".py",
   "mimetype": "text/x-python",
   "name": "python",
   "nbconvert_exporter": "python",
   "pygments_lexer": "ipython3",
   "version": "3.7.4"
  }
 },
 "nbformat": 4,
 "nbformat_minor": 4
}
